{
 "cells": [
  {
   "cell_type": "code",
   "execution_count": 1,
   "metadata": {},
   "outputs": [
    {
     "name": "stdout",
     "output_type": "stream",
     "text": [
      "['clean_test.csv', 'clean_train.csv', 'sample_submission.csv', 'survey_questions.csv', 'test.csv', 'train.csv']\n"
     ]
    }
   ],
   "source": [
    "import numpy as np\n",
    "import pandas as pd\n",
    "import matplotlib.pyplot as plt\n",
    "import os\n",
    "import string\n",
    "\n",
    "print(os.listdir(\"./dataset/\"))"
   ]
  },
  {
   "cell_type": "code",
   "execution_count": 2,
   "metadata": {},
   "outputs": [],
   "source": [
    "import warnings\n",
    "warnings.filterwarnings('ignore')\n",
    "\n",
    "from nltk.tokenize import sent_tokenize, word_tokenize, WhitespaceTokenizer\n",
    "from nltk.stem import PorterStemmer, WordNetLemmatizer\n",
    "from nltk.probability import FreqDist\n",
    "from nltk.corpus import stopwords, wordnet\n",
    "from nltk.tokenize import RegexpTokenizer\n",
    "from nltk import pos_tag\n",
    "\n",
    "from sklearn.feature_extraction.text import CountVectorizer, TfidfVectorizer\n",
    "from sklearn.preprocessing import OrdinalEncoder, LabelEncoder\n",
    "from sklearn.model_selection import train_test_split, KFold, StratifiedKFold, cross_val_score\n",
    "from sklearn.linear_model import LogisticRegression, SGDClassifier\n",
    "from sklearn.naive_bayes import MultinomialNB\n",
    "from sklearn.ensemble import RandomForestClassifier, ExtraTreesClassifier\n",
    "from sklearn.svm import LinearSVC, SVC\n",
    "from sklearn.neighbors import KNeighborsClassifier\n",
    "from sklearn.tree import DecisionTreeClassifier\n",
    "from sklearn.metrics import f1_score, roc_auc_score, accuracy_score\n",
    "\n",
    "from xgboost import XGBClassifier\n",
    "from lightgbm import LGBMClassifier\n",
    "from wordcloud import WordCloud\n",
    "\n",
    "# add sentiment anaylsis columns\n",
    "from nltk.sentiment.vader import SentimentIntensityAnalyzer\n",
    "\n",
    "# create doc2vec vector columns\n",
    "from gensim.test.utils import common_texts\n",
    "from gensim.models.doc2vec import Doc2Vec, TaggedDocument"
   ]
  },
  {
   "cell_type": "code",
   "execution_count": 3,
   "metadata": {},
   "outputs": [],
   "source": [
    "df_train = pd.read_csv('./dataset/train.csv')\n",
    "df_test = pd.read_csv('./dataset/test.csv')\n",
    "df_sample = pd.read_csv('./dataset/sample_submission.csv')"
   ]
  },
  {
   "cell_type": "code",
   "execution_count": 4,
   "metadata": {},
   "outputs": [
    {
     "name": "stdout",
     "output_type": "stream",
     "text": [
      "<class 'pandas.core.frame.DataFrame'>\n",
      "RangeIndex: 30336 entries, 0 to 30335\n",
      "Data columns (total 17 columns):\n",
      " #   Column          Non-Null Count  Dtype  \n",
      "---  ------          --------------  -----  \n",
      " 0   ID              30336 non-null  int64  \n",
      " 1   Place           30336 non-null  object \n",
      " 2   location        19082 non-null  object \n",
      " 3   date            30336 non-null  object \n",
      " 4   status          30336 non-null  object \n",
      " 5   job_title       30336 non-null  object \n",
      " 6   summary         30284 non-null  object \n",
      " 7   positives       30336 non-null  object \n",
      " 8   negatives       30336 non-null  object \n",
      " 9   advice_to_mgmt  17059 non-null  object \n",
      " 10  score_1         27150 non-null  float64\n",
      " 11  score_2         24286 non-null  float64\n",
      " 12  score_3         27167 non-null  float64\n",
      " 13  score_4         27145 non-null  float64\n",
      " 14  score_5         26851 non-null  float64\n",
      " 15  score_6         30336 non-null  int64  \n",
      " 16  overall         30336 non-null  float64\n",
      "dtypes: float64(6), int64(2), object(9)\n",
      "memory usage: 3.9+ MB\n"
     ]
    }
   ],
   "source": [
    "df_train.info()"
   ]
  },
  {
   "cell_type": "code",
   "execution_count": 5,
   "metadata": {},
   "outputs": [
    {
     "data": {
      "text/html": [
       "<div>\n",
       "<style scoped>\n",
       "    .dataframe tbody tr th:only-of-type {\n",
       "        vertical-align: middle;\n",
       "    }\n",
       "\n",
       "    .dataframe tbody tr th {\n",
       "        vertical-align: top;\n",
       "    }\n",
       "\n",
       "    .dataframe thead th {\n",
       "        text-align: right;\n",
       "    }\n",
       "</style>\n",
       "<table border=\"1\" class=\"dataframe\">\n",
       "  <thead>\n",
       "    <tr style=\"text-align: right;\">\n",
       "      <th></th>\n",
       "      <th>ID</th>\n",
       "      <th>Place</th>\n",
       "      <th>location</th>\n",
       "      <th>date</th>\n",
       "      <th>status</th>\n",
       "      <th>job_title</th>\n",
       "      <th>summary</th>\n",
       "      <th>positives</th>\n",
       "      <th>negatives</th>\n",
       "      <th>advice_to_mgmt</th>\n",
       "      <th>score_1</th>\n",
       "      <th>score_2</th>\n",
       "      <th>score_3</th>\n",
       "      <th>score_4</th>\n",
       "      <th>score_5</th>\n",
       "      <th>score_6</th>\n",
       "      <th>overall</th>\n",
       "    </tr>\n",
       "  </thead>\n",
       "  <tbody>\n",
       "    <tr>\n",
       "      <th>24193</th>\n",
       "      <td>54033</td>\n",
       "      <td>startup_6</td>\n",
       "      <td>Redmond, WA</td>\n",
       "      <td>Jan 8, 2016</td>\n",
       "      <td>Current Employee</td>\n",
       "      <td>Senior Software Development Engineer</td>\n",
       "      <td>Great Place to Work</td>\n",
       "      <td>A very high caliber group of people to work wi...</td>\n",
       "      <td>Sometimes the work load can effect the work / ...</td>\n",
       "      <td>NaN</td>\n",
       "      <td>4.0</td>\n",
       "      <td>5.0</td>\n",
       "      <td>5.0</td>\n",
       "      <td>5.0</td>\n",
       "      <td>4.0</td>\n",
       "      <td>0</td>\n",
       "      <td>5.0</td>\n",
       "    </tr>\n",
       "    <tr>\n",
       "      <th>2304</th>\n",
       "      <td>5199</td>\n",
       "      <td>startup_1</td>\n",
       "      <td>NaN</td>\n",
       "      <td>Jul 9, 2018</td>\n",
       "      <td>Former Employee</td>\n",
       "      <td>Anonymous Employee</td>\n",
       "      <td>google review</td>\n",
       "      <td>very very very very good</td>\n",
       "      <td>actually nothing quiet bad, thats ok</td>\n",
       "      <td>NaN</td>\n",
       "      <td>NaN</td>\n",
       "      <td>NaN</td>\n",
       "      <td>NaN</td>\n",
       "      <td>NaN</td>\n",
       "      <td>NaN</td>\n",
       "      <td>0</td>\n",
       "      <td>4.0</td>\n",
       "    </tr>\n",
       "    <tr>\n",
       "      <th>2917</th>\n",
       "      <td>6574</td>\n",
       "      <td>startup_1</td>\n",
       "      <td>NaN</td>\n",
       "      <td>Dec 7, 2015</td>\n",
       "      <td>Former Employee</td>\n",
       "      <td>Anonymous Employee</td>\n",
       "      <td>Best place to work in the world</td>\n",
       "      <td>good working environment, nice peers and super...</td>\n",
       "      <td>Good place to develop your self.</td>\n",
       "      <td>NaN</td>\n",
       "      <td>5.0</td>\n",
       "      <td>5.0</td>\n",
       "      <td>5.0</td>\n",
       "      <td>5.0</td>\n",
       "      <td>5.0</td>\n",
       "      <td>0</td>\n",
       "      <td>3.0</td>\n",
       "    </tr>\n",
       "    <tr>\n",
       "      <th>10878</th>\n",
       "      <td>24493</td>\n",
       "      <td>startup_4</td>\n",
       "      <td>Seattle, WA</td>\n",
       "      <td>Dec 20, 2012</td>\n",
       "      <td>Former Employee</td>\n",
       "      <td>Software Development Engineer</td>\n",
       "      <td>sad place to be</td>\n",
       "      <td>learn a lot of advanced distributed system tec...</td>\n",
       "      <td>pager duty, heavy work load, low compensation</td>\n",
       "      <td>NaN</td>\n",
       "      <td>1.0</td>\n",
       "      <td>2.0</td>\n",
       "      <td>1.0</td>\n",
       "      <td>1.0</td>\n",
       "      <td>1.0</td>\n",
       "      <td>7</td>\n",
       "      <td>2.0</td>\n",
       "    </tr>\n",
       "    <tr>\n",
       "      <th>25559</th>\n",
       "      <td>57176</td>\n",
       "      <td>startup_6</td>\n",
       "      <td>NaN</td>\n",
       "      <td>Jul 23, 2014</td>\n",
       "      <td>Former Employee</td>\n",
       "      <td>Anonymous Employee</td>\n",
       "      <td>Good place to work, but beware</td>\n",
       "      <td>Good salary/benefits, hardworking, intelligent...</td>\n",
       "      <td>politics, bureaucracy, test not respected or h...</td>\n",
       "      <td>NaN</td>\n",
       "      <td>5.0</td>\n",
       "      <td>4.0</td>\n",
       "      <td>3.0</td>\n",
       "      <td>5.0</td>\n",
       "      <td>3.0</td>\n",
       "      <td>0</td>\n",
       "      <td>5.0</td>\n",
       "    </tr>\n",
       "  </tbody>\n",
       "</table>\n",
       "</div>"
      ],
      "text/plain": [
       "          ID      Place     location           date             status  \\\n",
       "24193  54033  startup_6  Redmond, WA    Jan 8, 2016  Current Employee    \n",
       "2304    5199  startup_1          NaN    Jul 9, 2018   Former Employee    \n",
       "2917    6574  startup_1          NaN    Dec 7, 2015   Former Employee    \n",
       "10878  24493  startup_4  Seattle, WA   Dec 20, 2012   Former Employee    \n",
       "25559  57176  startup_6          NaN   Jul 23, 2014   Former Employee    \n",
       "\n",
       "                                   job_title                          summary  \\\n",
       "24193   Senior Software Development Engineer              Great Place to Work   \n",
       "2304                      Anonymous Employee                    google review   \n",
       "2917                      Anonymous Employee  Best place to work in the world   \n",
       "10878          Software Development Engineer                  sad place to be   \n",
       "25559                     Anonymous Employee   Good place to work, but beware   \n",
       "\n",
       "                                               positives  \\\n",
       "24193  A very high caliber group of people to work wi...   \n",
       "2304                            very very very very good   \n",
       "2917   good working environment, nice peers and super...   \n",
       "10878  learn a lot of advanced distributed system tec...   \n",
       "25559  Good salary/benefits, hardworking, intelligent...   \n",
       "\n",
       "                                               negatives advice_to_mgmt  \\\n",
       "24193  Sometimes the work load can effect the work / ...            NaN   \n",
       "2304                actually nothing quiet bad, thats ok            NaN   \n",
       "2917                    Good place to develop your self.            NaN   \n",
       "10878      pager duty, heavy work load, low compensation            NaN   \n",
       "25559  politics, bureaucracy, test not respected or h...            NaN   \n",
       "\n",
       "       score_1  score_2  score_3  score_4  score_5  score_6  overall  \n",
       "24193      4.0      5.0      5.0      5.0      4.0        0      5.0  \n",
       "2304       NaN      NaN      NaN      NaN      NaN        0      4.0  \n",
       "2917       5.0      5.0      5.0      5.0      5.0        0      3.0  \n",
       "10878      1.0      2.0      1.0      1.0      1.0        7      2.0  \n",
       "25559      5.0      4.0      3.0      5.0      3.0        0      5.0  "
      ]
     },
     "execution_count": 5,
     "metadata": {},
     "output_type": "execute_result"
    }
   ],
   "source": [
    "df_train.sample(5)"
   ]
  },
  {
   "cell_type": "code",
   "execution_count": 6,
   "metadata": {},
   "outputs": [
    {
     "data": {
      "text/plain": [
       "((30336, 17), (29272, 16))"
      ]
     },
     "execution_count": 6,
     "metadata": {},
     "output_type": "execute_result"
    }
   ],
   "source": [
    "df_train.shape, df_test.shape"
   ]
  },
  {
   "cell_type": "code",
   "execution_count": 7,
   "metadata": {},
   "outputs": [
    {
     "data": {
      "text/plain": [
       "ID                    0\n",
       "Place                 0\n",
       "location          11254\n",
       "date                  0\n",
       "status                0\n",
       "job_title             0\n",
       "summary              52\n",
       "positives             0\n",
       "negatives             0\n",
       "advice_to_mgmt    13277\n",
       "score_1            3186\n",
       "score_2            6050\n",
       "score_3            3169\n",
       "score_4            3191\n",
       "score_5            3485\n",
       "score_6               0\n",
       "overall               0\n",
       "dtype: int64"
      ]
     },
     "execution_count": 7,
     "metadata": {},
     "output_type": "execute_result"
    }
   ],
   "source": [
    "df_train.isnull().sum()"
   ]
  },
  {
   "cell_type": "code",
   "execution_count": 8,
   "metadata": {},
   "outputs": [],
   "source": [
    "col = ['score_1', 'score_2', 'score_3', 'score_4', 'score_5']\n",
    "for c in col:\n",
    "    df_train[c].fillna(df_train[c].dropna().median(), inplace=True)\n",
    "    df_test[c].fillna(df_train[c].dropna().median(), inplace=True)\n",
    "\n",
    "col1 = ['negatives', 'summary', 'advice_to_mgmt']\n",
    "for c in col1:\n",
    "    df_train[c].fillna('', inplace=True)\n",
    "    df_test[c].fillna('', inplace=True)"
   ]
  },
  {
   "cell_type": "code",
   "execution_count": 9,
   "metadata": {},
   "outputs": [],
   "source": [
    "drop_col = ['ID', 'location', 'date']\n",
    "df_train.drop(columns=drop_col, inplace=True)\n",
    "df_test.drop(columns=drop_col, inplace=True)"
   ]
  },
  {
   "cell_type": "code",
   "execution_count": 10,
   "metadata": {},
   "outputs": [
    {
     "data": {
      "text/plain": [
       "((30336, 14), (29272, 13))"
      ]
     },
     "execution_count": 10,
     "metadata": {},
     "output_type": "execute_result"
    }
   ],
   "source": [
    "df_train.shape, df_test.shape"
   ]
  },
  {
   "cell_type": "code",
   "execution_count": null,
   "metadata": {},
   "outputs": [],
   "source": []
  }
 ],
 "metadata": {
  "kernelspec": {
   "display_name": "Python 3",
   "language": "python",
   "name": "python3"
  },
  "language_info": {
   "codemirror_mode": {
    "name": "ipython",
    "version": 3
   },
   "file_extension": ".py",
   "mimetype": "text/x-python",
   "name": "python",
   "nbconvert_exporter": "python",
   "pygments_lexer": "ipython3",
   "version": "3.7.3"
  }
 },
 "nbformat": 4,
 "nbformat_minor": 2
}
