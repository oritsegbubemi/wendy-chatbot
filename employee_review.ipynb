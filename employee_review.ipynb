{
 "cells": [
  {
   "cell_type": "code",
   "execution_count": 1,
   "metadata": {},
   "outputs": [
    {
     "name": "stdout",
     "output_type": "stream",
     "text": [
      "['sample_submission.csv', 'survey_questions.csv', 'test.csv', 'train.csv']\n"
     ]
    }
   ],
   "source": [
    "import numpy as np # linear algebra\n",
    "import pandas as pd # data processing, CSV file I/O (e.g. pd.read_csv)\n",
    "import os\n",
    "print(os.listdir(\"./dataset/\"))"
   ]
  },
  {
   "cell_type": "code",
   "execution_count": 2,
   "metadata": {},
   "outputs": [],
   "source": [
    "import warnings\n",
    "warnings.filterwarnings('ignore')\n",
    "\n",
    "from nltk.tokenize import sent_tokenize, word_tokenize, WhitespaceTokenizer\n",
    "from nltk.stem import PorterStemmer, WordNetLemmatizer\n",
    "from nltk.probability import FreqDist\n",
    "from nltk.corpus import stopwords, wordnet\n",
    "from nltk import pos_tag\n",
    "import string\n",
    "from sklearn.feature_extraction.text import CountVectorizer, TfidfVectorizer\n",
    "from nltk.tokenize import RegexpTokenizer\n",
    "from sklearn.preprocessing import OrdinalEncoder, LabelEncoder\n",
    "from sklearn.model_selection import train_test_split, KFold, StratifiedKFold, cross_val_score\n",
    "from sklearn.linear_model import LogisticRegression, SGDClassifier\n",
    "from sklearn.naive_bayes import MultinomialNB\n",
    "from sklearn.ensemble import RandomForestClassifier, ExtraTreesClassifier\n",
    "from sklearn.svm import LinearSVC\n",
    "from sklearn.neighbors import KNeighborsClassifier\n",
    "from sklearn.tree import DecisionTreeClassifier\n",
    "from sklearn.metrics import f1_score, roc_auc_score, accuracy_score\n",
    "\n",
    "from xgboost import XGBClassifier\n",
    "from lightgbm import LGBMClassifier\n",
    "\n",
    "from wordcloud import WordCloud\n",
    "import matplotlib.pyplot as plt\n",
    "\n",
    "# add sentiment anaylsis columns\n",
    "from nltk.sentiment.vader import SentimentIntensityAnalyzer\n",
    "# create doc2vec vector columns\n",
    "from gensim.test.utils import common_texts\n",
    "from gensim.models.doc2vec import Doc2Vec, TaggedDocument"
   ]
  },
  {
   "cell_type": "code",
   "execution_count": 3,
   "metadata": {},
   "outputs": [],
   "source": [
    "df_train = pd.read_csv('./dataset/train.csv')\n",
    "df_test = pd.read_csv('./dataset/test.csv')\n",
    "df_sample = pd.read_csv('./dataset/sample_submission.csv')"
   ]
  },
  {
   "cell_type": "code",
   "execution_count": 4,
   "metadata": {},
   "outputs": [
    {
     "name": "stdout",
     "output_type": "stream",
     "text": [
      "<class 'pandas.core.frame.DataFrame'>\n",
      "RangeIndex: 30336 entries, 0 to 30335\n",
      "Data columns (total 17 columns):\n",
      " #   Column          Non-Null Count  Dtype  \n",
      "---  ------          --------------  -----  \n",
      " 0   ID              30336 non-null  int64  \n",
      " 1   Place           30336 non-null  object \n",
      " 2   location        19082 non-null  object \n",
      " 3   date            30336 non-null  object \n",
      " 4   status          30336 non-null  object \n",
      " 5   job_title       30336 non-null  object \n",
      " 6   summary         30284 non-null  object \n",
      " 7   positives       30336 non-null  object \n",
      " 8   negatives       30336 non-null  object \n",
      " 9   advice_to_mgmt  17059 non-null  object \n",
      " 10  score_1         27150 non-null  float64\n",
      " 11  score_2         24286 non-null  float64\n",
      " 12  score_3         27167 non-null  float64\n",
      " 13  score_4         27145 non-null  float64\n",
      " 14  score_5         26851 non-null  float64\n",
      " 15  score_6         30336 non-null  int64  \n",
      " 16  overall         30336 non-null  float64\n",
      "dtypes: float64(6), int64(2), object(9)\n",
      "memory usage: 3.9+ MB\n"
     ]
    }
   ],
   "source": [
    "df_train.info()"
   ]
  },
  {
   "cell_type": "code",
   "execution_count": 5,
   "metadata": {},
   "outputs": [
    {
     "data": {
      "text/html": [
       "<div>\n",
       "<style scoped>\n",
       "    .dataframe tbody tr th:only-of-type {\n",
       "        vertical-align: middle;\n",
       "    }\n",
       "\n",
       "    .dataframe tbody tr th {\n",
       "        vertical-align: top;\n",
       "    }\n",
       "\n",
       "    .dataframe thead th {\n",
       "        text-align: right;\n",
       "    }\n",
       "</style>\n",
       "<table border=\"1\" class=\"dataframe\">\n",
       "  <thead>\n",
       "    <tr style=\"text-align: right;\">\n",
       "      <th></th>\n",
       "      <th>ID</th>\n",
       "      <th>Place</th>\n",
       "      <th>location</th>\n",
       "      <th>date</th>\n",
       "      <th>status</th>\n",
       "      <th>job_title</th>\n",
       "      <th>summary</th>\n",
       "      <th>positives</th>\n",
       "      <th>negatives</th>\n",
       "      <th>advice_to_mgmt</th>\n",
       "      <th>score_1</th>\n",
       "      <th>score_2</th>\n",
       "      <th>score_3</th>\n",
       "      <th>score_4</th>\n",
       "      <th>score_5</th>\n",
       "      <th>score_6</th>\n",
       "      <th>overall</th>\n",
       "    </tr>\n",
       "  </thead>\n",
       "  <tbody>\n",
       "    <tr>\n",
       "      <th>23716</th>\n",
       "      <td>52982</td>\n",
       "      <td>startup_6</td>\n",
       "      <td>NaN</td>\n",
       "      <td>Aug 9, 2016</td>\n",
       "      <td>Former Employee</td>\n",
       "      <td>Anonymous Employee</td>\n",
       "      <td>Analyst</td>\n",
       "      <td>Management was always upfront and honest about...</td>\n",
       "      <td>Felt that there was a lot of micro managing fr...</td>\n",
       "      <td>Need to better take the time to understand the...</td>\n",
       "      <td>3.0</td>\n",
       "      <td>5.0</td>\n",
       "      <td>4.0</td>\n",
       "      <td>4.0</td>\n",
       "      <td>3.0</td>\n",
       "      <td>0</td>\n",
       "      <td>4.0</td>\n",
       "    </tr>\n",
       "    <tr>\n",
       "      <th>16442</th>\n",
       "      <td>36938</td>\n",
       "      <td>startup_2</td>\n",
       "      <td>NaN</td>\n",
       "      <td>Sep 24, 2018</td>\n",
       "      <td>Current Employee</td>\n",
       "      <td>Anonymous Employee</td>\n",
       "      <td>Senior Visual Designer</td>\n",
       "      <td>Great Benefits, cool people, Flexible hours</td>\n",
       "      <td>Politics sometimes, but thats everywhere</td>\n",
       "      <td>NaN</td>\n",
       "      <td>4.0</td>\n",
       "      <td>4.0</td>\n",
       "      <td>4.0</td>\n",
       "      <td>4.0</td>\n",
       "      <td>3.0</td>\n",
       "      <td>0</td>\n",
       "      <td>3.0</td>\n",
       "    </tr>\n",
       "    <tr>\n",
       "      <th>4753</th>\n",
       "      <td>10726</td>\n",
       "      <td>startup_4</td>\n",
       "      <td>Romeoville, IL</td>\n",
       "      <td>Apr 23, 2018</td>\n",
       "      <td>Current Employee</td>\n",
       "      <td>Transportation</td>\n",
       "      <td>Great Warehouse Job</td>\n",
       "      <td>-They care for their associates -They have gre...</td>\n",
       "      <td>-Some managers are not great leaders</td>\n",
       "      <td>-Listen more and communicate better with your ...</td>\n",
       "      <td>5.0</td>\n",
       "      <td>5.0</td>\n",
       "      <td>5.0</td>\n",
       "      <td>5.0</td>\n",
       "      <td>4.0</td>\n",
       "      <td>0</td>\n",
       "      <td>4.0</td>\n",
       "    </tr>\n",
       "    <tr>\n",
       "      <th>27512</th>\n",
       "      <td>61459</td>\n",
       "      <td>startup_6</td>\n",
       "      <td>Washington, DC</td>\n",
       "      <td>Sep 4, 2008</td>\n",
       "      <td>Current Employee</td>\n",
       "      <td>Senior Consultant</td>\n",
       "      <td>Geeks are being replaced by the</td>\n",
       "      <td>If you happen to be deemed a \"rock star\" for a...</td>\n",
       "      <td>Extremely likely that the quality of your work...</td>\n",
       "      <td>Not much, I'd actually fire most of them.</td>\n",
       "      <td>4.0</td>\n",
       "      <td>NaN</td>\n",
       "      <td>4.0</td>\n",
       "      <td>4.5</td>\n",
       "      <td>1.5</td>\n",
       "      <td>2</td>\n",
       "      <td>3.0</td>\n",
       "    </tr>\n",
       "    <tr>\n",
       "      <th>11341</th>\n",
       "      <td>25558</td>\n",
       "      <td>startup_4</td>\n",
       "      <td>Chennai (India)</td>\n",
       "      <td>Nov 15, 2018</td>\n",
       "      <td>Current Employee</td>\n",
       "      <td>BOLD Operations Manager</td>\n",
       "      <td>Challenging yet inflexible</td>\n",
       "      <td>- Competitive culture - Good leeway to work yo...</td>\n",
       "      <td>- Erratic timings - Stock option takes too lon...</td>\n",
       "      <td>NaN</td>\n",
       "      <td>2.0</td>\n",
       "      <td>4.0</td>\n",
       "      <td>4.0</td>\n",
       "      <td>4.0</td>\n",
       "      <td>3.0</td>\n",
       "      <td>0</td>\n",
       "      <td>4.0</td>\n",
       "    </tr>\n",
       "  </tbody>\n",
       "</table>\n",
       "</div>"
      ],
      "text/plain": [
       "          ID      Place         location           date             status  \\\n",
       "23716  52982  startup_6              NaN    Aug 9, 2016   Former Employee    \n",
       "16442  36938  startup_2              NaN   Sep 24, 2018  Current Employee    \n",
       "4753   10726  startup_4   Romeoville, IL   Apr 23, 2018  Current Employee    \n",
       "27512  61459  startup_6   Washington, DC    Sep 4, 2008  Current Employee    \n",
       "11341  25558  startup_4  Chennai (India)   Nov 15, 2018  Current Employee    \n",
       "\n",
       "                      job_title                           summary  \\\n",
       "23716        Anonymous Employee                           Analyst   \n",
       "16442        Anonymous Employee            Senior Visual Designer   \n",
       "4753             Transportation               Great Warehouse Job   \n",
       "27512         Senior Consultant  Geeks are being replaced by the    \n",
       "11341   BOLD Operations Manager        Challenging yet inflexible   \n",
       "\n",
       "                                               positives  \\\n",
       "23716  Management was always upfront and honest about...   \n",
       "16442        Great Benefits, cool people, Flexible hours   \n",
       "4753   -They care for their associates -They have gre...   \n",
       "27512  If you happen to be deemed a \"rock star\" for a...   \n",
       "11341  - Competitive culture - Good leeway to work yo...   \n",
       "\n",
       "                                               negatives  \\\n",
       "23716  Felt that there was a lot of micro managing fr...   \n",
       "16442           Politics sometimes, but thats everywhere   \n",
       "4753                -Some managers are not great leaders   \n",
       "27512  Extremely likely that the quality of your work...   \n",
       "11341  - Erratic timings - Stock option takes too lon...   \n",
       "\n",
       "                                          advice_to_mgmt  score_1  score_2  \\\n",
       "23716  Need to better take the time to understand the...      3.0      5.0   \n",
       "16442                                                NaN      4.0      4.0   \n",
       "4753   -Listen more and communicate better with your ...      5.0      5.0   \n",
       "27512          Not much, I'd actually fire most of them.      4.0      NaN   \n",
       "11341                                                NaN      2.0      4.0   \n",
       "\n",
       "       score_3  score_4  score_5  score_6  overall  \n",
       "23716      4.0      4.0      3.0        0      4.0  \n",
       "16442      4.0      4.0      3.0        0      3.0  \n",
       "4753       5.0      5.0      4.0        0      4.0  \n",
       "27512      4.0      4.5      1.5        2      3.0  \n",
       "11341      4.0      4.0      3.0        0      4.0  "
      ]
     },
     "execution_count": 5,
     "metadata": {},
     "output_type": "execute_result"
    }
   ],
   "source": [
    "df_train.sample(5)"
   ]
  },
  {
   "cell_type": "code",
   "execution_count": 6,
   "metadata": {},
   "outputs": [
    {
     "data": {
      "text/plain": [
       "((30336, 17), (29272, 16))"
      ]
     },
     "execution_count": 6,
     "metadata": {},
     "output_type": "execute_result"
    }
   ],
   "source": [
    "df_train.shape, df_test.shape"
   ]
  },
  {
   "cell_type": "code",
   "execution_count": 7,
   "metadata": {},
   "outputs": [
    {
     "data": {
      "text/plain": [
       "ID                    0\n",
       "Place                 0\n",
       "location          11254\n",
       "date                  0\n",
       "status                0\n",
       "job_title             0\n",
       "summary              52\n",
       "positives             0\n",
       "negatives             0\n",
       "advice_to_mgmt    13277\n",
       "score_1            3186\n",
       "score_2            6050\n",
       "score_3            3169\n",
       "score_4            3191\n",
       "score_5            3485\n",
       "score_6               0\n",
       "overall               0\n",
       "dtype: int64"
      ]
     },
     "execution_count": 7,
     "metadata": {},
     "output_type": "execute_result"
    }
   ],
   "source": [
    "df_train.isnull().sum()"
   ]
  },
  {
   "cell_type": "code",
   "execution_count": 8,
   "metadata": {},
   "outputs": [],
   "source": [
    "col = ['score_1', 'score_2', 'score_3', 'score_4', 'score_5']\n",
    "for c in col:\n",
    "    df_train[c].fillna(df_train[c].dropna().median(), inplace=True)\n",
    "    df_test[c].fillna(df_train[c].dropna().median(), inplace=True)\n",
    "\n",
    "col1 = ['negatives', 'summary', 'advice_to_mgmt']\n",
    "for c in col1:\n",
    "    df_train[c].fillna('', inplace=True)\n",
    "    df_test[c].fillna('', inplace=True)"
   ]
  },
  {
   "cell_type": "code",
   "execution_count": 9,
   "metadata": {},
   "outputs": [],
   "source": [
    "drop_col = ['ID', 'location', 'date']\n",
    "df_train.drop(columns=drop_col, inplace=True)\n",
    "df_test.drop(columns=drop_col, inplace=True)"
   ]
  },
  {
   "cell_type": "code",
   "execution_count": 10,
   "metadata": {},
   "outputs": [
    {
     "data": {
      "text/plain": [
       "((30336, 14), (29272, 13))"
      ]
     },
     "execution_count": 10,
     "metadata": {},
     "output_type": "execute_result"
    }
   ],
   "source": [
    "df_train.shape, df_test.shape"
   ]
  },
  {
   "cell_type": "code",
   "execution_count": 11,
   "metadata": {},
   "outputs": [
    {
     "data": {
      "text/plain": [
       "startup_4    11758\n",
       "startup_6     8172\n",
       "startup_2     5863\n",
       "startup_1     3468\n",
       "startup_5      698\n",
       "startup_3      377\n",
       "Name: Place, dtype: int64"
      ]
     },
     "execution_count": 11,
     "metadata": {},
     "output_type": "execute_result"
    }
   ],
   "source": [
    "df_train['Place'].value_counts()"
   ]
  },
  {
   "cell_type": "code",
   "execution_count": 12,
   "metadata": {},
   "outputs": [
    {
     "data": {
      "text/plain": [
       "Current Employee     19087\n",
       "Former Employee      11249\n",
       "Name: status, dtype: int64"
      ]
     },
     "execution_count": 12,
     "metadata": {},
     "output_type": "execute_result"
    }
   ],
   "source": [
    "df_train['status'].value_counts()"
   ]
  },
  {
   "cell_type": "code",
   "execution_count": 13,
   "metadata": {},
   "outputs": [
    {
     "data": {
      "text/plain": [
       "4.0    10688\n",
       "3.0     9510\n",
       "5.0     5975\n",
       "2.0     3531\n",
       "1.0      632\n",
       "Name: overall, dtype: int64"
      ]
     },
     "execution_count": 13,
     "metadata": {},
     "output_type": "execute_result"
    }
   ],
   "source": [
    "df_train['overall'].value_counts()"
   ]
  },
  {
   "cell_type": "code",
   "execution_count": 14,
   "metadata": {},
   "outputs": [],
   "source": [
    "OEncoder  = OrdinalEncoder()\n",
    "df_train['Place'] = OEncoder.fit_transform(df_train[['Place']])\n",
    "df_train['status'] = OEncoder.fit_transform(df_train[['status']])\n",
    "\n",
    "df_test['Place'] = OEncoder.fit_transform(df_test[['Place']])\n",
    "df_test['status'] = OEncoder.fit_transform(df_test[['status']])"
   ]
  },
  {
   "cell_type": "code",
   "execution_count": 15,
   "metadata": {},
   "outputs": [
    {
     "data": {
      "text/plain": [
       "(False, False)"
      ]
     },
     "execution_count": 15,
     "metadata": {},
     "output_type": "execute_result"
    }
   ],
   "source": [
    "df_train.isnull().sum().any(), df_test.isnull().sum().any()"
   ]
  },
  {
   "cell_type": "code",
   "execution_count": 16,
   "metadata": {},
   "outputs": [
    {
     "data": {
      "text/html": [
       "<div>\n",
       "<style scoped>\n",
       "    .dataframe tbody tr th:only-of-type {\n",
       "        vertical-align: middle;\n",
       "    }\n",
       "\n",
       "    .dataframe tbody tr th {\n",
       "        vertical-align: top;\n",
       "    }\n",
       "\n",
       "    .dataframe thead th {\n",
       "        text-align: right;\n",
       "    }\n",
       "</style>\n",
       "<table border=\"1\" class=\"dataframe\">\n",
       "  <thead>\n",
       "    <tr style=\"text-align: right;\">\n",
       "      <th></th>\n",
       "      <th>Place</th>\n",
       "      <th>status</th>\n",
       "      <th>job_title</th>\n",
       "      <th>summary</th>\n",
       "      <th>positives</th>\n",
       "      <th>negatives</th>\n",
       "      <th>advice_to_mgmt</th>\n",
       "      <th>score_1</th>\n",
       "      <th>score_2</th>\n",
       "      <th>score_3</th>\n",
       "      <th>score_4</th>\n",
       "      <th>score_5</th>\n",
       "      <th>score_6</th>\n",
       "      <th>overall</th>\n",
       "    </tr>\n",
       "  </thead>\n",
       "  <tbody>\n",
       "    <tr>\n",
       "      <th>21670</th>\n",
       "      <td>1.0</td>\n",
       "      <td>1.0</td>\n",
       "      <td>Anonymous Employee</td>\n",
       "      <td>Ops quality engineering , supplier quality</td>\n",
       "      <td>Can influence the product, supplier quality</td>\n",
       "      <td>Work life balance, stress, too many meetings</td>\n",
       "      <td>Stress</td>\n",
       "      <td>1.0</td>\n",
       "      <td>1.0</td>\n",
       "      <td>3.0</td>\n",
       "      <td>2.0</td>\n",
       "      <td>1.0</td>\n",
       "      <td>1</td>\n",
       "      <td>4.0</td>\n",
       "    </tr>\n",
       "    <tr>\n",
       "      <th>19989</th>\n",
       "      <td>1.0</td>\n",
       "      <td>1.0</td>\n",
       "      <td>Mac Genius</td>\n",
       "      <td>Dynamic, fast-paced, but poorly managed.</td>\n",
       "      <td>Apple prepares their employees for success wit...</td>\n",
       "      <td>The way Apple cultivates a management team is ...</td>\n",
       "      <td>Realize the history between managers on a stor...</td>\n",
       "      <td>4.0</td>\n",
       "      <td>1.0</td>\n",
       "      <td>3.0</td>\n",
       "      <td>5.0</td>\n",
       "      <td>1.0</td>\n",
       "      <td>2</td>\n",
       "      <td>3.0</td>\n",
       "    </tr>\n",
       "    <tr>\n",
       "      <th>25914</th>\n",
       "      <td>5.0</td>\n",
       "      <td>1.0</td>\n",
       "      <td>Senior Program Manager</td>\n",
       "      <td>Some great people. Some below avg. Very much d...</td>\n",
       "      <td>Leadership position (in some products), shapin...</td>\n",
       "      <td>The worse internal office politics one can exp...</td>\n",
       "      <td>Buy companies like hell and don't merge then b...</td>\n",
       "      <td>5.0</td>\n",
       "      <td>1.0</td>\n",
       "      <td>4.0</td>\n",
       "      <td>5.0</td>\n",
       "      <td>2.0</td>\n",
       "      <td>0</td>\n",
       "      <td>5.0</td>\n",
       "    </tr>\n",
       "    <tr>\n",
       "      <th>17349</th>\n",
       "      <td>1.0</td>\n",
       "      <td>0.0</td>\n",
       "      <td>Technical Specialist</td>\n",
       "      <td>Great place</td>\n",
       "      <td>The people are so helpful and unique! The tran...</td>\n",
       "      <td>There aren't too many cons for working with ap...</td>\n",
       "      <td></td>\n",
       "      <td>5.0</td>\n",
       "      <td>5.0</td>\n",
       "      <td>5.0</td>\n",
       "      <td>5.0</td>\n",
       "      <td>5.0</td>\n",
       "      <td>1</td>\n",
       "      <td>5.0</td>\n",
       "    </tr>\n",
       "    <tr>\n",
       "      <th>13128</th>\n",
       "      <td>3.0</td>\n",
       "      <td>0.0</td>\n",
       "      <td>Operations Manager</td>\n",
       "      <td>Operations Manager</td>\n",
       "      <td>Very Dynamic role and truly customer obsessed....</td>\n",
       "      <td>Long working hours No formal training in the O...</td>\n",
       "      <td>Review working hours as the culture is to work...</td>\n",
       "      <td>2.0</td>\n",
       "      <td>4.0</td>\n",
       "      <td>5.0</td>\n",
       "      <td>5.0</td>\n",
       "      <td>4.0</td>\n",
       "      <td>1</td>\n",
       "      <td>3.0</td>\n",
       "    </tr>\n",
       "  </tbody>\n",
       "</table>\n",
       "</div>"
      ],
      "text/plain": [
       "       Place  status                job_title  \\\n",
       "21670    1.0     1.0       Anonymous Employee   \n",
       "19989    1.0     1.0               Mac Genius   \n",
       "25914    5.0     1.0   Senior Program Manager   \n",
       "17349    1.0     0.0     Technical Specialist   \n",
       "13128    3.0     0.0       Operations Manager   \n",
       "\n",
       "                                                 summary  \\\n",
       "21670         Ops quality engineering , supplier quality   \n",
       "19989           Dynamic, fast-paced, but poorly managed.   \n",
       "25914  Some great people. Some below avg. Very much d...   \n",
       "17349                                        Great place   \n",
       "13128                                 Operations Manager   \n",
       "\n",
       "                                               positives  \\\n",
       "21670        Can influence the product, supplier quality   \n",
       "19989  Apple prepares their employees for success wit...   \n",
       "25914  Leadership position (in some products), shapin...   \n",
       "17349  The people are so helpful and unique! The tran...   \n",
       "13128  Very Dynamic role and truly customer obsessed....   \n",
       "\n",
       "                                               negatives  \\\n",
       "21670       Work life balance, stress, too many meetings   \n",
       "19989  The way Apple cultivates a management team is ...   \n",
       "25914  The worse internal office politics one can exp...   \n",
       "17349  There aren't too many cons for working with ap...   \n",
       "13128  Long working hours No formal training in the O...   \n",
       "\n",
       "                                          advice_to_mgmt  score_1  score_2  \\\n",
       "21670                                             Stress      1.0      1.0   \n",
       "19989  Realize the history between managers on a stor...      4.0      1.0   \n",
       "25914  Buy companies like hell and don't merge then b...      5.0      1.0   \n",
       "17349                                                         5.0      5.0   \n",
       "13128  Review working hours as the culture is to work...      2.0      4.0   \n",
       "\n",
       "       score_3  score_4  score_5  score_6  overall  \n",
       "21670      3.0      2.0      1.0        1      4.0  \n",
       "19989      3.0      5.0      1.0        2      3.0  \n",
       "25914      4.0      5.0      2.0        0      5.0  \n",
       "17349      5.0      5.0      5.0        1      5.0  \n",
       "13128      5.0      5.0      4.0        1      3.0  "
      ]
     },
     "execution_count": 16,
     "metadata": {},
     "output_type": "execute_result"
    }
   ],
   "source": [
    "df_train.sample(5)"
   ]
  },
  {
   "cell_type": "markdown",
   "metadata": {},
   "source": [
    "# Positive and Negative"
   ]
  },
  {
   "cell_type": "code",
   "execution_count": 17,
   "metadata": {},
   "outputs": [],
   "source": [
    "def Review_len(df):\n",
    "    df['len_pos'] = df['positives'].str.len()\n",
    "    df['len_neg'] = df['negatives'].str.len()"
   ]
  },
  {
   "cell_type": "code",
   "execution_count": 18,
   "metadata": {},
   "outputs": [],
   "source": [
    "Review_len(df_train)\n",
    "Review_len(df_test)"
   ]
  },
  {
   "cell_type": "code",
   "execution_count": 20,
   "metadata": {},
   "outputs": [
    {
     "data": {
      "text/html": [
       "<div>\n",
       "<style scoped>\n",
       "    .dataframe tbody tr th:only-of-type {\n",
       "        vertical-align: middle;\n",
       "    }\n",
       "\n",
       "    .dataframe tbody tr th {\n",
       "        vertical-align: top;\n",
       "    }\n",
       "\n",
       "    .dataframe thead th {\n",
       "        text-align: right;\n",
       "    }\n",
       "</style>\n",
       "<table border=\"1\" class=\"dataframe\">\n",
       "  <thead>\n",
       "    <tr style=\"text-align: right;\">\n",
       "      <th></th>\n",
       "      <th>Place</th>\n",
       "      <th>status</th>\n",
       "      <th>job_title</th>\n",
       "      <th>summary</th>\n",
       "      <th>positives</th>\n",
       "      <th>negatives</th>\n",
       "      <th>advice_to_mgmt</th>\n",
       "      <th>score_1</th>\n",
       "      <th>score_2</th>\n",
       "      <th>score_3</th>\n",
       "      <th>score_4</th>\n",
       "      <th>score_5</th>\n",
       "      <th>score_6</th>\n",
       "      <th>overall</th>\n",
       "      <th>len_pos</th>\n",
       "      <th>len_neg</th>\n",
       "    </tr>\n",
       "  </thead>\n",
       "  <tbody>\n",
       "    <tr>\n",
       "      <th>6963</th>\n",
       "      <td>3.0</td>\n",
       "      <td>0.0</td>\n",
       "      <td>Senior Manager, Program Management</td>\n",
       "      <td>Great for many--not good for some</td>\n",
       "      <td>Fast moving, growing, innovative company full ...</td>\n",
       "      <td>Demands can be brutal--hard to achieve work li...</td>\n",
       "      <td>Share the profits with the employees. Take car...</td>\n",
       "      <td>2.0</td>\n",
       "      <td>3.0</td>\n",
       "      <td>4.0</td>\n",
       "      <td>3.0</td>\n",
       "      <td>3.0</td>\n",
       "      <td>0</td>\n",
       "      <td>4.0</td>\n",
       "      <td>289</td>\n",
       "      <td>273</td>\n",
       "    </tr>\n",
       "    <tr>\n",
       "      <th>27359</th>\n",
       "      <td>5.0</td>\n",
       "      <td>0.0</td>\n",
       "      <td>Director</td>\n",
       "      <td>Social contract btwn employers and employees i...</td>\n",
       "      <td>work with smart people good benefits</td>\n",
       "      <td>layoffs, politics, cronyism, poor facilities, ...</td>\n",
       "      <td>make sure you work in a core area like windows...</td>\n",
       "      <td>3.0</td>\n",
       "      <td>4.0</td>\n",
       "      <td>2.0</td>\n",
       "      <td>3.0</td>\n",
       "      <td>1.5</td>\n",
       "      <td>1</td>\n",
       "      <td>2.0</td>\n",
       "      <td>36</td>\n",
       "      <td>61</td>\n",
       "    </tr>\n",
       "    <tr>\n",
       "      <th>1899</th>\n",
       "      <td>0.0</td>\n",
       "      <td>1.0</td>\n",
       "      <td>Anonymous Employee</td>\n",
       "      <td>Great!</td>\n",
       "      <td>Good perks and learning environment</td>\n",
       "      <td>everything that the company provides is great</td>\n",
       "      <td>great mentors and managers</td>\n",
       "      <td>3.5</td>\n",
       "      <td>4.0</td>\n",
       "      <td>4.0</td>\n",
       "      <td>4.0</td>\n",
       "      <td>3.0</td>\n",
       "      <td>0</td>\n",
       "      <td>5.0</td>\n",
       "      <td>35</td>\n",
       "      <td>45</td>\n",
       "    </tr>\n",
       "  </tbody>\n",
       "</table>\n",
       "</div>"
      ],
      "text/plain": [
       "       Place  status                            job_title  \\\n",
       "6963     3.0     0.0   Senior Manager, Program Management   \n",
       "27359    5.0     0.0                             Director   \n",
       "1899     0.0     1.0                   Anonymous Employee   \n",
       "\n",
       "                                                 summary  \\\n",
       "6963                   Great for many--not good for some   \n",
       "27359  Social contract btwn employers and employees i...   \n",
       "1899                                              Great!   \n",
       "\n",
       "                                               positives  \\\n",
       "6963   Fast moving, growing, innovative company full ...   \n",
       "27359               work with smart people good benefits   \n",
       "1899                 Good perks and learning environment   \n",
       "\n",
       "                                               negatives  \\\n",
       "6963   Demands can be brutal--hard to achieve work li...   \n",
       "27359  layoffs, politics, cronyism, poor facilities, ...   \n",
       "1899       everything that the company provides is great   \n",
       "\n",
       "                                          advice_to_mgmt  score_1  score_2  \\\n",
       "6963   Share the profits with the employees. Take car...      2.0      3.0   \n",
       "27359  make sure you work in a core area like windows...      3.0      4.0   \n",
       "1899                          great mentors and managers      3.5      4.0   \n",
       "\n",
       "       score_3  score_4  score_5  score_6  overall  len_pos  len_neg  \n",
       "6963       4.0      3.0      3.0        0      4.0      289      273  \n",
       "27359      2.0      3.0      1.5        1      2.0       36       61  \n",
       "1899       4.0      4.0      3.0        0      5.0       35       45  "
      ]
     },
     "execution_count": 20,
     "metadata": {},
     "output_type": "execute_result"
    }
   ],
   "source": [
    "df_train.sample(3)"
   ]
  },
  {
   "cell_type": "code",
   "execution_count": null,
   "metadata": {},
   "outputs": [],
   "source": []
  }
 ],
 "metadata": {
  "kernelspec": {
   "display_name": "Python 3",
   "language": "python",
   "name": "python3"
  },
  "language_info": {
   "codemirror_mode": {
    "name": "ipython",
    "version": 3
   },
   "file_extension": ".py",
   "mimetype": "text/x-python",
   "name": "python",
   "nbconvert_exporter": "python",
   "pygments_lexer": "ipython3",
   "version": "3.7.3"
  }
 },
 "nbformat": 4,
 "nbformat_minor": 2
}
