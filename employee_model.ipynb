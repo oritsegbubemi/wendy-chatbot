{
 "cells": [
  {
   "cell_type": "code",
   "execution_count": 1,
   "metadata": {},
   "outputs": [
    {
     "name": "stdout",
     "output_type": "stream",
     "text": [
      "['clean_test.csv', 'clean_train.csv', 'sentiment_analysis_test.csv', 'sentiment_analysis_train.csv', 'survey_questions.csv', 'test.csv', 'train.csv']\n"
     ]
    }
   ],
   "source": [
    "import os\n",
    "import pickle\n",
    "import string\n",
    "import numpy as np\n",
    "import pandas as pd\n",
    "import seaborn as sns\n",
    "import matplotlib.pyplot as plt\n",
    "\n",
    "print(os.listdir(\"./dataset/\"))"
   ]
  },
  {
   "cell_type": "code",
   "execution_count": 2,
   "metadata": {},
   "outputs": [],
   "source": [
    "import warnings\n",
    "warnings.filterwarnings('ignore')\n",
    "\n",
    "import nltk\n",
    "from nltk.tokenize import sent_tokenize, word_tokenize, WhitespaceTokenizer\n",
    "from nltk.stem import PorterStemmer, WordNetLemmatizer\n",
    "from nltk.probability import FreqDist\n",
    "from nltk.corpus import stopwords, wordnet\n",
    "from nltk.tokenize import RegexpTokenizer\n",
    "from nltk import pos_tag\n",
    "\n",
    "from sklearn.feature_extraction.text import CountVectorizer, TfidfVectorizer\n",
    "from sklearn.preprocessing import OrdinalEncoder, LabelEncoder\n",
    "from sklearn.model_selection import train_test_split, KFold, StratifiedKFold, cross_val_score, RandomizedSearchCV, GridSearchCV, ShuffleSplit\n",
    "from sklearn.linear_model import LogisticRegression, SGDClassifier\n",
    "from sklearn.naive_bayes import MultinomialNB\n",
    "from sklearn.ensemble import RandomForestClassifier, ExtraTreesClassifier, GradientBoostingClassifier\n",
    "from sklearn.svm import LinearSVC, SVC\n",
    "from sklearn.neighbors import KNeighborsClassifier\n",
    "from sklearn.tree import DecisionTreeClassifier\n",
    "from sklearn.metrics import f1_score, roc_auc_score, accuracy_score, classification_report, confusion_matrix\n",
    "\n",
    "from xgboost import XGBClassifier\n",
    "from lightgbm import LGBMClassifier\n",
    "from wordcloud import WordCloud\n",
    "\n",
    "# add sentiment anaylsis columns\n",
    "from nltk.sentiment.vader import SentimentIntensityAnalyzer\n",
    "\n",
    "# create doc2vec vector columns\n",
    "from gensim.test.utils import common_texts\n",
    "from gensim.models.doc2vec import Doc2Vec, TaggedDocument\n",
    "from pprint import pprint\n"
   ]
  },
  {
   "cell_type": "code",
   "execution_count": 3,
   "metadata": {},
   "outputs": [],
   "source": [
    "df_train = pd.read_csv('./dataset/sentiment_analysis_train.csv')\n",
    "df_test = pd.read_csv('./dataset/sentiment_analysis_test.csv')"
   ]
  },
  {
   "cell_type": "code",
   "execution_count": 4,
   "metadata": {},
   "outputs": [
    {
     "data": {
      "text/html": [
       "<div>\n",
       "<style scoped>\n",
       "    .dataframe tbody tr th:only-of-type {\n",
       "        vertical-align: middle;\n",
       "    }\n",
       "\n",
       "    .dataframe tbody tr th {\n",
       "        vertical-align: top;\n",
       "    }\n",
       "\n",
       "    .dataframe thead th {\n",
       "        text-align: right;\n",
       "    }\n",
       "</style>\n",
       "<table border=\"1\" class=\"dataframe\">\n",
       "  <thead>\n",
       "    <tr style=\"text-align: right;\">\n",
       "      <th></th>\n",
       "      <th>Place</th>\n",
       "      <th>status</th>\n",
       "      <th>clean_positives</th>\n",
       "      <th>clean_negatives</th>\n",
       "      <th>clean_reviews</th>\n",
       "      <th>positive_score</th>\n",
       "      <th>positive_label</th>\n",
       "      <th>negative_score</th>\n",
       "      <th>negative_label</th>\n",
       "      <th>review_score</th>\n",
       "      <th>review_label</th>\n",
       "    </tr>\n",
       "  </thead>\n",
       "  <tbody>\n",
       "    <tr>\n",
       "      <th>0</th>\n",
       "      <td>startup_1</td>\n",
       "      <td>Current Employee</td>\n",
       "      <td>people smart friendly</td>\n",
       "      <td>bureaucracy slow thing</td>\n",
       "      <td>people smart friendly bureaucracy slow thing</td>\n",
       "      <td>0.7096</td>\n",
       "      <td>Very Happy</td>\n",
       "      <td>0.0000</td>\n",
       "      <td>Neutral</td>\n",
       "      <td>0.7096</td>\n",
       "      <td>Very Happy</td>\n",
       "    </tr>\n",
       "    <tr>\n",
       "      <th>1</th>\n",
       "      <td>startup_1</td>\n",
       "      <td>Former Employee</td>\n",
       "      <td>food food food cafe main campus mtv alone mini...</td>\n",
       "      <td>work/life balance balance perk benefit illusio...</td>\n",
       "      <td>food food food cafe main campus mtv alone mini...</td>\n",
       "      <td>0.9806</td>\n",
       "      <td>Very Happy</td>\n",
       "      <td>0.0054</td>\n",
       "      <td>Neutral</td>\n",
       "      <td>0.9807</td>\n",
       "      <td>Very Happy</td>\n",
       "    </tr>\n",
       "    <tr>\n",
       "      <th>2</th>\n",
       "      <td>startup_1</td>\n",
       "      <td>Current Employee</td>\n",
       "      <td>software engineer among king hill google engin...</td>\n",
       "      <td>become large come grow pain bureaucracy slow r...</td>\n",
       "      <td>software engineer among king hill google engin...</td>\n",
       "      <td>0.9971</td>\n",
       "      <td>Very Happy</td>\n",
       "      <td>-0.9325</td>\n",
       "      <td>Unhappy</td>\n",
       "      <td>0.9956</td>\n",
       "      <td>Very Happy</td>\n",
       "    </tr>\n",
       "  </tbody>\n",
       "</table>\n",
       "</div>"
      ],
      "text/plain": [
       "       Place             status  \\\n",
       "0  startup_1  Current Employee    \n",
       "1  startup_1   Former Employee    \n",
       "2  startup_1  Current Employee    \n",
       "\n",
       "                                     clean_positives  \\\n",
       "0                              people smart friendly   \n",
       "1  food food food cafe main campus mtv alone mini...   \n",
       "2  software engineer among king hill google engin...   \n",
       "\n",
       "                                     clean_negatives  \\\n",
       "0                             bureaucracy slow thing   \n",
       "1  work/life balance balance perk benefit illusio...   \n",
       "2  become large come grow pain bureaucracy slow r...   \n",
       "\n",
       "                                       clean_reviews  positive_score  \\\n",
       "0       people smart friendly bureaucracy slow thing          0.7096   \n",
       "1  food food food cafe main campus mtv alone mini...          0.9806   \n",
       "2  software engineer among king hill google engin...          0.9971   \n",
       "\n",
       "  positive_label  negative_score negative_label  review_score review_label  \n",
       "0     Very Happy          0.0000        Neutral        0.7096   Very Happy  \n",
       "1     Very Happy          0.0054        Neutral        0.9807   Very Happy  \n",
       "2     Very Happy         -0.9325        Unhappy        0.9956   Very Happy  "
      ]
     },
     "execution_count": 4,
     "metadata": {},
     "output_type": "execute_result"
    }
   ],
   "source": [
    "df_train.head(3)"
   ]
  },
  {
   "cell_type": "markdown",
   "metadata": {},
   "source": [
    "# TFIDF "
   ]
  },
  {
   "cell_type": "code",
   "execution_count": 5,
   "metadata": {},
   "outputs": [],
   "source": [
    "features_train = df_train['clean_positives']\n",
    "labels_train = df_train['positive_label']"
   ]
  },
  {
   "cell_type": "code",
   "execution_count": 6,
   "metadata": {},
   "outputs": [],
   "source": [
    "vectorizer = TfidfVectorizer()\n",
    "positive_vectorizer = vectorizer.fit_transform(features_train.values.astype('U')) # to convert to unicode"
   ]
  },
  {
   "cell_type": "markdown",
   "metadata": {},
   "source": [
    "# Dividing Data into Training and Test Sets"
   ]
  },
  {
   "cell_type": "code",
   "execution_count": 7,
   "metadata": {},
   "outputs": [],
   "source": [
    "X_train, X_test, y_train, y_test = train_test_split(positive_vectorizer, labels_train, test_size=0.20, random_state=101)"
   ]
  }
 ],
 "metadata": {
  "kernelspec": {
   "display_name": "Python 3",
   "language": "python",
   "name": "python3"
  },
  "language_info": {
   "codemirror_mode": {
    "name": "ipython",
    "version": 3
   },
   "file_extension": ".py",
   "mimetype": "text/x-python",
   "name": "python",
   "nbconvert_exporter": "python",
   "pygments_lexer": "ipython3",
   "version": "3.7.3"
  }
 },
 "nbformat": 4,
 "nbformat_minor": 2
}
