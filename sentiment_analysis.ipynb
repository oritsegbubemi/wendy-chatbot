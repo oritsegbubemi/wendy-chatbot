{
 "cells": [
  {
   "cell_type": "code",
   "execution_count": 1,
   "metadata": {},
   "outputs": [
    {
     "name": "stdout",
     "output_type": "stream",
     "text": [
      "['clean_test.csv', 'clean_train.csv', 'survey_questions.csv', 'test.csv', 'train.csv']\n"
     ]
    }
   ],
   "source": [
    "import numpy as np\n",
    "import pandas as pd\n",
    "import matplotlib.pyplot as plt\n",
    "import os\n",
    "import string\n",
    "\n",
    "print(os.listdir(\"./dataset/\"))"
   ]
  },
  {
   "cell_type": "code",
   "execution_count": 2,
   "metadata": {},
   "outputs": [],
   "source": [
    "import warnings\n",
    "warnings.filterwarnings('ignore')\n",
    "\n",
    "import nltk\n",
    "from nltk.tokenize import sent_tokenize, word_tokenize, WhitespaceTokenizer\n",
    "from nltk.stem import PorterStemmer, WordNetLemmatizer\n",
    "from nltk.probability import FreqDist\n",
    "from nltk.corpus import stopwords, wordnet\n",
    "from nltk.tokenize import RegexpTokenizer\n",
    "from nltk import pos_tag\n",
    "\n",
    "from sklearn.feature_extraction.text import CountVectorizer, TfidfVectorizer\n",
    "from sklearn.preprocessing import OrdinalEncoder, LabelEncoder\n",
    "from sklearn.model_selection import train_test_split, KFold, StratifiedKFold, cross_val_score\n",
    "from sklearn.linear_model import LogisticRegression, SGDClassifier\n",
    "from sklearn.naive_bayes import MultinomialNB\n",
    "from sklearn.ensemble import RandomForestClassifier, ExtraTreesClassifier\n",
    "from sklearn.svm import LinearSVC, SVC\n",
    "from sklearn.neighbors import KNeighborsClassifier\n",
    "from sklearn.tree import DecisionTreeClassifier\n",
    "from sklearn.metrics import f1_score, roc_auc_score, accuracy_score\n",
    "\n",
    "from xgboost import XGBClassifier\n",
    "from lightgbm import LGBMClassifier\n",
    "from wordcloud import WordCloud\n",
    "\n",
    "# add sentiment anaylsis columns\n",
    "from nltk.sentiment.vader import SentimentIntensityAnalyzer\n",
    "\n",
    "# create doc2vec vector columns\n",
    "from gensim.test.utils import common_texts\n",
    "from gensim.models.doc2vec import Doc2Vec, TaggedDocument"
   ]
  },
  {
   "cell_type": "code",
   "execution_count": 3,
   "metadata": {},
   "outputs": [],
   "source": [
    "df_train = pd.read_csv('./dataset/clean_train.csv')\n",
    "df_test = pd.read_csv('./dataset/clean_test.csv')"
   ]
  },
  {
   "cell_type": "code",
   "execution_count": 4,
   "metadata": {},
   "outputs": [],
   "source": [
    "drop_col = ['job_title', 'summary', 'positives', 'negatives','advice_to_mgmt', \n",
    "            'score_1', 'score_2', 'score_3', 'score_4', 'score_5','score_6', \n",
    "            'len_pos', 'len_neg', 'num_words_pos', 'num_words_neg']\n",
    "df_train.drop(columns=drop_col, inplace=True)\n",
    "df_test.drop(columns=drop_col, inplace=True)\n",
    "df_train.drop(columns='overall', inplace=True)"
   ]
  },
  {
   "cell_type": "code",
   "execution_count": 5,
   "metadata": {},
   "outputs": [
    {
     "data": {
      "text/html": [
       "<div>\n",
       "<style scoped>\n",
       "    .dataframe tbody tr th:only-of-type {\n",
       "        vertical-align: middle;\n",
       "    }\n",
       "\n",
       "    .dataframe tbody tr th {\n",
       "        vertical-align: top;\n",
       "    }\n",
       "\n",
       "    .dataframe thead th {\n",
       "        text-align: right;\n",
       "    }\n",
       "</style>\n",
       "<table border=\"1\" class=\"dataframe\">\n",
       "  <thead>\n",
       "    <tr style=\"text-align: right;\">\n",
       "      <th></th>\n",
       "      <th>Place</th>\n",
       "      <th>status</th>\n",
       "      <th>clean_positives</th>\n",
       "      <th>clean_negatives</th>\n",
       "      <th>clean_reviews</th>\n",
       "    </tr>\n",
       "  </thead>\n",
       "  <tbody>\n",
       "    <tr>\n",
       "      <th>0</th>\n",
       "      <td>startup_1</td>\n",
       "      <td>Current Employee</td>\n",
       "      <td>people smart friendly</td>\n",
       "      <td>bureaucracy slow thing</td>\n",
       "      <td>people smart friendly bureaucracy slow thing</td>\n",
       "    </tr>\n",
       "    <tr>\n",
       "      <th>1</th>\n",
       "      <td>startup_1</td>\n",
       "      <td>Former Employee</td>\n",
       "      <td>food food food cafe main campus mtv alone mini...</td>\n",
       "      <td>work/life balance balance perk benefit illusio...</td>\n",
       "      <td>food food food cafe main campus mtv alone mini...</td>\n",
       "    </tr>\n",
       "    <tr>\n",
       "      <th>2</th>\n",
       "      <td>startup_1</td>\n",
       "      <td>Current Employee</td>\n",
       "      <td>software engineer among king hill google engin...</td>\n",
       "      <td>become large come grow pain bureaucracy slow r...</td>\n",
       "      <td>software engineer among king hill google engin...</td>\n",
       "    </tr>\n",
       "  </tbody>\n",
       "</table>\n",
       "</div>"
      ],
      "text/plain": [
       "       Place             status  \\\n",
       "0  startup_1  Current Employee    \n",
       "1  startup_1   Former Employee    \n",
       "2  startup_1  Current Employee    \n",
       "\n",
       "                                     clean_positives  \\\n",
       "0                              people smart friendly   \n",
       "1  food food food cafe main campus mtv alone mini...   \n",
       "2  software engineer among king hill google engin...   \n",
       "\n",
       "                                     clean_negatives  \\\n",
       "0                             bureaucracy slow thing   \n",
       "1  work/life balance balance perk benefit illusio...   \n",
       "2  become large come grow pain bureaucracy slow r...   \n",
       "\n",
       "                                       clean_reviews  \n",
       "0       people smart friendly bureaucracy slow thing  \n",
       "1  food food food cafe main campus mtv alone mini...  \n",
       "2  software engineer among king hill google engin...  "
      ]
     },
     "execution_count": 5,
     "metadata": {},
     "output_type": "execute_result"
    }
   ],
   "source": [
    "df_train.head(3)"
   ]
  },
  {
   "cell_type": "code",
   "execution_count": 6,
   "metadata": {},
   "outputs": [],
   "source": [
    "def SIAscores(df):\n",
    "    SIA = SentimentIntensityAnalyzer()\n",
    "    label = \"\"\n",
    "    \n",
    "    def sentiment_score(score):\n",
    "        if (score >= 0.67):\n",
    "            label = \"Very Happy\"\n",
    "        elif (score >= 0.33 and score < 0.67):\n",
    "            label = \"Happy\"\n",
    "        elif (score >= -0.33 and score < 0.33):\n",
    "            label = \"Neutral\"\n",
    "        elif (score >= -0.67 and score < -0.33):\n",
    "            label = \"Quite Unhappy\"\n",
    "        else:\n",
    "            label = \"Unhappy\"\n",
    "        return label\n",
    "    \n",
    "    df[\"positive_sentiments\"] = df[\"clean_positives\"].apply(lambda x: SIA.polarity_scores(str(x)))\n",
    "    df[\"positive_compound\"] = [d.get('compound') for d in df[\"positive_sentiments\"]]\n",
    "    df[\"positive_score\"] = df[\"positive_compound\"].apply(lambda x: sentiment_score(x))\n",
    "    \n",
    "    df[\"negative_sentiments\"] = df[\"clean_negatives\"].apply(lambda x: SIA.polarity_scores(str(x)))\n",
    "    df[\"negative_compound\"] = [d.get('compound') for d in df[\"negative_sentiments\"]]\n",
    "    df[\"negative_score\"] = df[\"negative_compound\"].apply(lambda x: sentiment_score(x))\n",
    "    \n",
    "    df[\"review_sentiments\"] = df[\"clean_reviews\"].apply(lambda x: SIA.polarity_scores(str(x)))\n",
    "    df[\"review_compound\"] = [d.get('compound') for d in df[\"review_sentiments\"]]\n",
    "    df[\"review_score\"] = df[\"review_compound\"].apply(lambda x: sentiment_score(x))\n",
    "\n",
    "SIAscores(df_train)\n",
    "SIAscores(df_test)"
   ]
  },
  {
   "cell_type": "code",
   "execution_count": 7,
   "metadata": {},
   "outputs": [
    {
     "data": {
      "text/plain": [
       "Index(['Place', 'status', 'clean_positives', 'clean_negatives',\n",
       "       'clean_reviews', 'positive_sentiments', 'positive_compound',\n",
       "       'positive_score', 'negative_sentiments', 'negative_compound',\n",
       "       'negative_score', 'review_sentiments', 'review_compound',\n",
       "       'review_score'],\n",
       "      dtype='object')"
      ]
     },
     "execution_count": 7,
     "metadata": {},
     "output_type": "execute_result"
    }
   ],
   "source": [
    "df_train.columns"
   ]
  },
  {
   "cell_type": "code",
   "execution_count": 8,
   "metadata": {},
   "outputs": [],
   "source": [
    "drop_col = ['positive_sentiments', 'positive_compound', 'negative_sentiments', \n",
    "            'negative_compound','review_sentiments', 'review_compound']\n",
    "df_train.drop(columns=drop_col, inplace=True)\n",
    "df_test.drop(columns=drop_col, inplace=True)"
   ]
  },
  {
   "cell_type": "code",
   "execution_count": 9,
   "metadata": {},
   "outputs": [
    {
     "data": {
      "text/html": [
       "<div>\n",
       "<style scoped>\n",
       "    .dataframe tbody tr th:only-of-type {\n",
       "        vertical-align: middle;\n",
       "    }\n",
       "\n",
       "    .dataframe tbody tr th {\n",
       "        vertical-align: top;\n",
       "    }\n",
       "\n",
       "    .dataframe thead th {\n",
       "        text-align: right;\n",
       "    }\n",
       "</style>\n",
       "<table border=\"1\" class=\"dataframe\">\n",
       "  <thead>\n",
       "    <tr style=\"text-align: right;\">\n",
       "      <th></th>\n",
       "      <th>Place</th>\n",
       "      <th>status</th>\n",
       "      <th>clean_positives</th>\n",
       "      <th>clean_negatives</th>\n",
       "      <th>clean_reviews</th>\n",
       "      <th>positive_score</th>\n",
       "      <th>negative_score</th>\n",
       "      <th>review_score</th>\n",
       "    </tr>\n",
       "  </thead>\n",
       "  <tbody>\n",
       "    <tr>\n",
       "      <th>27294</th>\n",
       "      <td>startup_6</td>\n",
       "      <td>Current Employee</td>\n",
       "      <td>great environment almost job/position/role/tec...</td>\n",
       "      <td>huge company many people lot competition beuro...</td>\n",
       "      <td>great environment almost job/position/role/tec...</td>\n",
       "      <td>Very Happy</td>\n",
       "      <td>Neutral</td>\n",
       "      <td>Very Happy</td>\n",
       "    </tr>\n",
       "    <tr>\n",
       "      <th>11112</th>\n",
       "      <td>startup_4</td>\n",
       "      <td>Former Employee</td>\n",
       "      <td>good salary interest technology problem space</td>\n",
       "      <td>middle management director senior manager typi...</td>\n",
       "      <td>good salary interest technology problem space ...</td>\n",
       "      <td>Happy</td>\n",
       "      <td>Unhappy</td>\n",
       "      <td>Quite Unhappy</td>\n",
       "    </tr>\n",
       "    <tr>\n",
       "      <th>15719</th>\n",
       "      <td>startup_5</td>\n",
       "      <td>Current Employee</td>\n",
       "      <td>treat like human well-fed corporate structure ...</td>\n",
       "      <td>base salary little comparable company young em...</td>\n",
       "      <td>treat like human well-fed corporate structure ...</td>\n",
       "      <td>Very Happy</td>\n",
       "      <td>Neutral</td>\n",
       "      <td>Very Happy</td>\n",
       "    </tr>\n",
       "    <tr>\n",
       "      <th>22701</th>\n",
       "      <td>startup_6</td>\n",
       "      <td>Current Employee</td>\n",
       "      <td>culture transparency respect diversity opportu...</td>\n",
       "      <td>come individual company</td>\n",
       "      <td>culture transparency respect diversity opportu...</td>\n",
       "      <td>Very Happy</td>\n",
       "      <td>Neutral</td>\n",
       "      <td>Very Happy</td>\n",
       "    </tr>\n",
       "    <tr>\n",
       "      <th>909</th>\n",
       "      <td>startup_1</td>\n",
       "      <td>Current Employee</td>\n",
       "      <td>pro good</td>\n",
       "      <td>downside work</td>\n",
       "      <td>pro good downside work</td>\n",
       "      <td>Happy</td>\n",
       "      <td>Neutral</td>\n",
       "      <td>Neutral</td>\n",
       "    </tr>\n",
       "  </tbody>\n",
       "</table>\n",
       "</div>"
      ],
      "text/plain": [
       "           Place             status  \\\n",
       "27294  startup_6  Current Employee    \n",
       "11112  startup_4   Former Employee    \n",
       "15719  startup_5  Current Employee    \n",
       "22701  startup_6  Current Employee    \n",
       "909    startup_1  Current Employee    \n",
       "\n",
       "                                         clean_positives  \\\n",
       "27294  great environment almost job/position/role/tec...   \n",
       "11112      good salary interest technology problem space   \n",
       "15719  treat like human well-fed corporate structure ...   \n",
       "22701  culture transparency respect diversity opportu...   \n",
       "909                                             pro good   \n",
       "\n",
       "                                         clean_negatives  \\\n",
       "27294  huge company many people lot competition beuro...   \n",
       "11112  middle management director senior manager typi...   \n",
       "15719  base salary little comparable company young em...   \n",
       "22701                            come individual company   \n",
       "909                                        downside work   \n",
       "\n",
       "                                           clean_reviews positive_score  \\\n",
       "27294  great environment almost job/position/role/tec...     Very Happy   \n",
       "11112  good salary interest technology problem space ...          Happy   \n",
       "15719  treat like human well-fed corporate structure ...     Very Happy   \n",
       "22701  culture transparency respect diversity opportu...     Very Happy   \n",
       "909                               pro good downside work          Happy   \n",
       "\n",
       "      negative_score   review_score  \n",
       "27294        Neutral     Very Happy  \n",
       "11112        Unhappy  Quite Unhappy  \n",
       "15719        Neutral     Very Happy  \n",
       "22701        Neutral     Very Happy  \n",
       "909          Neutral        Neutral  "
      ]
     },
     "execution_count": 9,
     "metadata": {},
     "output_type": "execute_result"
    }
   ],
   "source": [
    "df_train.sample(5)"
   ]
  },
  {
   "cell_type": "code",
   "execution_count": null,
   "metadata": {},
   "outputs": [],
   "source": [
    "df_train.to_csv('dataset/sentiment_analysis_train.csv', index=False)\n",
    "df_test.to_csv('dataset/_test.csv', index=False)"
   ]
  }
 ],
 "metadata": {
  "kernelspec": {
   "display_name": "Python 3",
   "language": "python",
   "name": "python3"
  },
  "language_info": {
   "codemirror_mode": {
    "name": "ipython",
    "version": 3
   },
   "file_extension": ".py",
   "mimetype": "text/x-python",
   "name": "python",
   "nbconvert_exporter": "python",
   "pygments_lexer": "ipython3",
   "version": "3.7.3"
  }
 },
 "nbformat": 4,
 "nbformat_minor": 2
}
