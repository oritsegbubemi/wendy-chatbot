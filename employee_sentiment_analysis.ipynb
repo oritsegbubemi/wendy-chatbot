{
 "cells": [
  {
   "cell_type": "code",
   "execution_count": 1,
   "metadata": {},
   "outputs": [
    {
     "name": "stdout",
     "output_type": "stream",
     "text": [
      "['clean_test.csv', 'clean_train.csv', 'survey_questions.csv', 'test.csv', 'train.csv']\n"
     ]
    }
   ],
   "source": [
    "import os\n",
    "import string\n",
    "import numpy as np\n",
    "import pandas as pd\n",
    "\n",
    "print(os.listdir(\"./dataset/\"))"
   ]
  },
  {
   "cell_type": "code",
   "execution_count": 2,
   "metadata": {},
   "outputs": [],
   "source": [
    "import warnings\n",
    "warnings.filterwarnings('ignore')\n",
    "\n",
    "# add sentiment anaylsis columns\n",
    "from nltk.sentiment.vader import SentimentIntensityAnalyzer"
   ]
  },
  {
   "cell_type": "code",
   "execution_count": 3,
   "metadata": {},
   "outputs": [],
   "source": [
    "df_train = pd.read_csv('./dataset/clean_train.csv')\n",
    "df_test = pd.read_csv('./dataset/clean_test.csv')"
   ]
  },
  {
   "cell_type": "code",
   "execution_count": 4,
   "metadata": {},
   "outputs": [
    {
     "data": {
      "text/plain": [
       "Index(['Place', 'status', 'job_title', 'summary', 'positives', 'negatives',\n",
       "       'advice_to_mgmt', 'score_1', 'score_2', 'score_3', 'score_4', 'score_5',\n",
       "       'score_6', 'overall', 'len_pos', 'len_neg', 'num_words_pos',\n",
       "       'num_words_neg', 'clean_positives', 'clean_negatives'],\n",
       "      dtype='object')"
      ]
     },
     "execution_count": 4,
     "metadata": {},
     "output_type": "execute_result"
    }
   ],
   "source": [
    "df_train.columns"
   ]
  },
  {
   "cell_type": "code",
   "execution_count": 5,
   "metadata": {},
   "outputs": [],
   "source": [
    "drop_col = ['Place', 'status', 'job_title', 'summary', 'positives', 'negatives', 'advice_to_mgmt',\n",
    "            'score_1', 'score_2', 'score_3', 'score_4', 'score_5','score_6', \n",
    "            'len_pos', 'len_neg', 'num_words_pos', 'num_words_neg']\n",
    "\n",
    "df_train.drop(columns=drop_col, inplace=True)\n",
    "df_test.drop(columns=drop_col, inplace=True)\n",
    "df_train.drop(columns='overall', inplace=True)"
   ]
  },
  {
   "cell_type": "code",
   "execution_count": 6,
   "metadata": {},
   "outputs": [
    {
     "data": {
      "text/plain": [
       "((30336, 2), (29272, 2))"
      ]
     },
     "execution_count": 6,
     "metadata": {},
     "output_type": "execute_result"
    }
   ],
   "source": [
    "df_train.shape, df_test.shape"
   ]
  },
  {
   "cell_type": "code",
   "execution_count": 7,
   "metadata": {},
   "outputs": [],
   "source": [
    "def SIAscores(df):\n",
    "    SIA = SentimentIntensityAnalyzer()\n",
    "    label = \"\"\n",
    "    \n",
    "    def sentiment_score(score):\n",
    "        if (score >= 0.67):\n",
    "            label = \"Very Happy\"\n",
    "        elif (score >= 0.33 and score < 0.67):\n",
    "            label = \"Happy\"\n",
    "        elif (score >= -0.33 and score < 0.33):\n",
    "            label = \"Neutral\"\n",
    "        elif (score >= -0.67 and score < -0.33):\n",
    "            label = \"Quite Unhappy\"\n",
    "        else:\n",
    "            label = \"Unhappy\"\n",
    "        return label\n",
    "    \n",
    "    df[\"positive_sentiments\"] = df[\"clean_positives\"].apply(lambda x: SIA.polarity_scores(str(x)))\n",
    "    df[\"positive_score\"] = [d.get('compound') for d in df[\"positive_sentiments\"]]\n",
    "    df[\"positive_label\"] = df[\"positive_score\"].apply(lambda x: sentiment_score(x))\n",
    "    \n",
    "    df[\"negative_sentiments\"] = df[\"clean_negatives\"].apply(lambda x: SIA.polarity_scores(str(x)))\n",
    "    df[\"negative_score\"] = [d.get('compound') for d in df[\"negative_sentiments\"]]\n",
    "    df[\"negative_label\"] = df[\"negative_score\"].apply(lambda x: sentiment_score(x))\n",
    "\n",
    "SIAscores(df_train)\n",
    "SIAscores(df_test)"
   ]
  },
  {
   "cell_type": "code",
   "execution_count": 8,
   "metadata": {},
   "outputs": [],
   "source": [
    "drop_col = ['positive_sentiments', 'negative_sentiments']\n",
    "df_train.drop(columns=drop_col, inplace=True)\n",
    "df_test.drop(columns=drop_col, inplace=True)"
   ]
  },
  {
   "cell_type": "code",
   "execution_count": 9,
   "metadata": {},
   "outputs": [
    {
     "data": {
      "text/html": [
       "<div>\n",
       "<style scoped>\n",
       "    .dataframe tbody tr th:only-of-type {\n",
       "        vertical-align: middle;\n",
       "    }\n",
       "\n",
       "    .dataframe tbody tr th {\n",
       "        vertical-align: top;\n",
       "    }\n",
       "\n",
       "    .dataframe thead th {\n",
       "        text-align: right;\n",
       "    }\n",
       "</style>\n",
       "<table border=\"1\" class=\"dataframe\">\n",
       "  <thead>\n",
       "    <tr style=\"text-align: right;\">\n",
       "      <th></th>\n",
       "      <th>clean_positives</th>\n",
       "      <th>clean_negatives</th>\n",
       "      <th>positive_score</th>\n",
       "      <th>positive_label</th>\n",
       "      <th>negative_score</th>\n",
       "      <th>negative_label</th>\n",
       "    </tr>\n",
       "  </thead>\n",
       "  <tbody>\n",
       "    <tr>\n",
       "      <th>0</th>\n",
       "      <td>people smart friendly</td>\n",
       "      <td>bureaucracy slow thing</td>\n",
       "      <td>0.7096</td>\n",
       "      <td>Very Happy</td>\n",
       "      <td>0.0000</td>\n",
       "      <td>Neutral</td>\n",
       "    </tr>\n",
       "    <tr>\n",
       "      <th>1</th>\n",
       "      <td>food food food cafe main campus mtv alone mini...</td>\n",
       "      <td>work/life balance balance perk benefit illusio...</td>\n",
       "      <td>0.9806</td>\n",
       "      <td>Very Happy</td>\n",
       "      <td>0.0054</td>\n",
       "      <td>Neutral</td>\n",
       "    </tr>\n",
       "    <tr>\n",
       "      <th>2</th>\n",
       "      <td>software engineer among king hill google engin...</td>\n",
       "      <td>become large come grow pain bureaucracy slow r...</td>\n",
       "      <td>0.9971</td>\n",
       "      <td>Very Happy</td>\n",
       "      <td>-0.9325</td>\n",
       "      <td>Unhappy</td>\n",
       "    </tr>\n",
       "  </tbody>\n",
       "</table>\n",
       "</div>"
      ],
      "text/plain": [
       "                                     clean_positives  \\\n",
       "0                              people smart friendly   \n",
       "1  food food food cafe main campus mtv alone mini...   \n",
       "2  software engineer among king hill google engin...   \n",
       "\n",
       "                                     clean_negatives  positive_score  \\\n",
       "0                             bureaucracy slow thing          0.7096   \n",
       "1  work/life balance balance perk benefit illusio...          0.9806   \n",
       "2  become large come grow pain bureaucracy slow r...          0.9971   \n",
       "\n",
       "  positive_label  negative_score negative_label  \n",
       "0     Very Happy          0.0000        Neutral  \n",
       "1     Very Happy          0.0054        Neutral  \n",
       "2     Very Happy         -0.9325        Unhappy  "
      ]
     },
     "execution_count": 9,
     "metadata": {},
     "output_type": "execute_result"
    }
   ],
   "source": [
    "df_train.head(3)"
   ]
  },
  {
   "cell_type": "markdown",
   "metadata": {},
   "source": [
    "# Combining Columns"
   ]
  },
  {
   "cell_type": "code",
   "execution_count": 10,
   "metadata": {},
   "outputs": [],
   "source": [
    "def combining_columns(df, x, y, name):\n",
    "    series = pd.Series(pd.concat([df[x], df[y]], ignore_index=True), name=name) \n",
    "    return series\n",
    "\n",
    "features_train = combining_columns(df_train, 'clean_positives', 'clean_negatives', 'features')\n",
    "scores_train = combining_columns(df_train, 'positive_score', 'negative_score', 'scores')\n",
    "labels_train = combining_columns(df_train, 'positive_label', 'negative_label', 'labels')\n",
    "\n",
    "features_test = combining_columns(df_test, 'clean_positives', 'clean_negatives', 'features')\n",
    "scores_test = combining_columns(df_test, 'positive_score', 'negative_score', 'scores')\n",
    "labels_test = combining_columns(df_test, 'positive_label', 'negative_label', 'labels')"
   ]
  },
  {
   "cell_type": "code",
   "execution_count": 11,
   "metadata": {},
   "outputs": [],
   "source": [
    "df_train = pd.concat([features_train, scores_train, labels_train], axis=1)\n",
    "df_test = pd.concat([features_test, scores_test, labels_test], axis=1)"
   ]
  },
  {
   "cell_type": "code",
   "execution_count": 12,
   "metadata": {},
   "outputs": [
    {
     "data": {
      "text/plain": [
       "((60672, 3), (58544, 3))"
      ]
     },
     "execution_count": 12,
     "metadata": {},
     "output_type": "execute_result"
    }
   ],
   "source": [
    "df_train.shape, df_test.shape"
   ]
  },
  {
   "cell_type": "code",
   "execution_count": 13,
   "metadata": {},
   "outputs": [
    {
     "data": {
      "text/html": [
       "<div>\n",
       "<style scoped>\n",
       "    .dataframe tbody tr th:only-of-type {\n",
       "        vertical-align: middle;\n",
       "    }\n",
       "\n",
       "    .dataframe tbody tr th {\n",
       "        vertical-align: top;\n",
       "    }\n",
       "\n",
       "    .dataframe thead th {\n",
       "        text-align: right;\n",
       "    }\n",
       "</style>\n",
       "<table border=\"1\" class=\"dataframe\">\n",
       "  <thead>\n",
       "    <tr style=\"text-align: right;\">\n",
       "      <th></th>\n",
       "      <th>features</th>\n",
       "      <th>scores</th>\n",
       "      <th>labels</th>\n",
       "    </tr>\n",
       "  </thead>\n",
       "  <tbody>\n",
       "    <tr>\n",
       "      <th>54636</th>\n",
       "      <td>generic problem relate huge organization need ...</td>\n",
       "      <td>-0.0772</td>\n",
       "      <td>Neutral</td>\n",
       "    </tr>\n",
       "    <tr>\n",
       "      <th>9544</th>\n",
       "      <td>great fun although work extremely hard however...</td>\n",
       "      <td>0.9101</td>\n",
       "      <td>Very Happy</td>\n",
       "    </tr>\n",
       "    <tr>\n",
       "      <th>33760</th>\n",
       "      <td>perk pretty good salary way par could earn twi...</td>\n",
       "      <td>0.8689</td>\n",
       "      <td>Very Happy</td>\n",
       "    </tr>\n",
       "  </tbody>\n",
       "</table>\n",
       "</div>"
      ],
      "text/plain": [
       "                                                features  scores      labels\n",
       "54636  generic problem relate huge organization need ... -0.0772     Neutral\n",
       "9544   great fun although work extremely hard however...  0.9101  Very Happy\n",
       "33760  perk pretty good salary way par could earn twi...  0.8689  Very Happy"
      ]
     },
     "execution_count": 13,
     "metadata": {},
     "output_type": "execute_result"
    }
   ],
   "source": [
    "df_train.sample(3)"
   ]
  },
  {
   "cell_type": "code",
   "execution_count": 14,
   "metadata": {},
   "outputs": [
    {
     "data": {
      "text/html": [
       "<div>\n",
       "<style scoped>\n",
       "    .dataframe tbody tr th:only-of-type {\n",
       "        vertical-align: middle;\n",
       "    }\n",
       "\n",
       "    .dataframe tbody tr th {\n",
       "        vertical-align: top;\n",
       "    }\n",
       "\n",
       "    .dataframe thead th {\n",
       "        text-align: right;\n",
       "    }\n",
       "</style>\n",
       "<table border=\"1\" class=\"dataframe\">\n",
       "  <thead>\n",
       "    <tr style=\"text-align: right;\">\n",
       "      <th></th>\n",
       "      <th>features</th>\n",
       "      <th>scores</th>\n",
       "      <th>labels</th>\n",
       "    </tr>\n",
       "  </thead>\n",
       "  <tbody>\n",
       "    <tr>\n",
       "      <th>56854</th>\n",
       "      <td>work/life balance exactly lack stress constant...</td>\n",
       "      <td>0.7269</td>\n",
       "      <td>Very Happy</td>\n",
       "    </tr>\n",
       "    <tr>\n",
       "      <th>24306</th>\n",
       "      <td>lot cool opportunity get engage truly impactfu...</td>\n",
       "      <td>0.9682</td>\n",
       "      <td>Very Happy</td>\n",
       "    </tr>\n",
       "    <tr>\n",
       "      <th>7697</th>\n",
       "      <td>good benefit package adequate facility physica...</td>\n",
       "      <td>0.7783</td>\n",
       "      <td>Very Happy</td>\n",
       "    </tr>\n",
       "  </tbody>\n",
       "</table>\n",
       "</div>"
      ],
      "text/plain": [
       "                                                features  scores      labels\n",
       "56854  work/life balance exactly lack stress constant...  0.7269  Very Happy\n",
       "24306  lot cool opportunity get engage truly impactfu...  0.9682  Very Happy\n",
       "7697   good benefit package adequate facility physica...  0.7783  Very Happy"
      ]
     },
     "execution_count": 14,
     "metadata": {},
     "output_type": "execute_result"
    }
   ],
   "source": [
    "df_test.sample(3)"
   ]
  },
  {
   "cell_type": "code",
   "execution_count": 15,
   "metadata": {},
   "outputs": [],
   "source": [
    "df_train = df_train.sample(frac=1).reset_index(drop=True)\n",
    "df_test = df_test.sample(frac=1).reset_index(drop=True)"
   ]
  },
  {
   "cell_type": "code",
   "execution_count": 16,
   "metadata": {},
   "outputs": [],
   "source": [
    "df_train.to_csv('dataset/sentiment_analysis_train.csv', index=False)\n",
    "df_test.to_csv('dataset/sentiment_analysis_test.csv', index=False)"
   ]
  },
  {
   "cell_type": "code",
   "execution_count": null,
   "metadata": {},
   "outputs": [],
   "source": []
  }
 ],
 "metadata": {
  "kernelspec": {
   "display_name": "Python 3",
   "language": "python",
   "name": "python3"
  },
  "language_info": {
   "codemirror_mode": {
    "name": "ipython",
    "version": 3
   },
   "file_extension": ".py",
   "mimetype": "text/x-python",
   "name": "python",
   "nbconvert_exporter": "python",
   "pygments_lexer": "ipython3",
   "version": "3.7.3"
  }
 },
 "nbformat": 4,
 "nbformat_minor": 2
}
